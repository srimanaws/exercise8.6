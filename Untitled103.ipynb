{
 "cells": [
  {
   "cell_type": "code",
   "execution_count": 1,
   "id": "1dd13f47-71bb-4753-95e2-003c5cf09b51",
   "metadata": {},
   "outputs": [
    {
     "name": "stdout",
     "output_type": "stream",
     "text": [
      "studied\n",
      "learned\n",
      "excited\n",
      "advanced\n"
     ]
    }
   ],
   "source": [
    "# Sriman - In-Class Activity 8.6 (Tokenizing and Comparing Strings)\n",
    "def tokenize_and_find_ed_words(sentence):\n",
    "    # Split the sentence into words using spaces\n",
    "    words = sentence.split()\n",
    "    # Now, let's go through each word and print the ones ending in 'ed'\n",
    "    for word in words:\n",
    "        if word.endswith('ed'):\n",
    "            print(word)\n",
    "\n",
    "# Here's a sample sentence to test:\n",
    "sentence = \"I studied and learned while being excited about the advanced topics covered.\"\n",
    "tokenize_and_find_ed_words(sentence)  # should print: 'studied', 'learned', 'excited', 'covered'\n"
   ]
  },
  {
   "cell_type": "code",
   "execution_count": null,
   "id": "f63952b9-378f-47aa-ad43-81b1d49761ce",
   "metadata": {},
   "outputs": [],
   "source": []
  }
 ],
 "metadata": {
  "kernelspec": {
   "display_name": "Python 3 (ipykernel)",
   "language": "python",
   "name": "python3"
  },
  "language_info": {
   "codemirror_mode": {
    "name": "ipython",
    "version": 3
   },
   "file_extension": ".py",
   "mimetype": "text/x-python",
   "name": "python",
   "nbconvert_exporter": "python",
   "pygments_lexer": "ipython3",
   "version": "3.12.4"
  }
 },
 "nbformat": 4,
 "nbformat_minor": 5
}
